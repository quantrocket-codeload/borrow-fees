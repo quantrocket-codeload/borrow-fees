{
 "cells": [
  {
   "cell_type": "markdown",
   "id": "740c90f9-14cb-428a-8630-4e0339e0a74c",
   "metadata": {},
   "source": [
    "<a href=\"https://www.quantrocket.com\"><img alt=\"QuantRocket logo\" src=\"https://www.quantrocket.com/assets/img/notebook-header-logo.png\"></a><br>\n",
    "<a href=\"https://www.quantrocket.com/disclaimer/\">Disclaimer</a>"
   ]
  },
  {
   "cell_type": "markdown",
   "id": "7476da07-78d4-4928-8131-c50f7a80f9ae",
   "metadata": {},
   "source": [
    "***\n",
    "[Borrow Fees Alpha](Introduction.ipynb) › Part 2: Exploratory Data Analysis\n",
    "***"
   ]
  },
  {
   "cell_type": "markdown",
   "id": "869f3181-bd1f-475d-bb84-24027cf2ac54",
   "metadata": {},
   "source": [
    "# Exploratory Data Analysis\n",
    "\n",
    "With an alternative data source like borrow fees, exploratory data analysis (EDA) is a good first step. In this notebook, we will run a Pipeline to get an overview of the distribution of borrow fees."
   ]
  },
  {
   "cell_type": "markdown",
   "id": "59efa3a8-e807-4b35-b10f-cc2acb1efcc4",
   "metadata": {},
   "source": [
    "The Pipeline has one column, the borrow fee. For this tutorial, we choose to limit our universe to common stocks."
   ]
  },
  {
   "cell_type": "code",
   "execution_count": 1,
   "id": "3686fe19-69af-4a45-9ff3-2e131cef11f6",
   "metadata": {
    "tags": []
   },
   "outputs": [],
   "source": [
    "from zipline.pipeline import Pipeline, ibkr, master\n",
    "\n",
    "universe = master.SecuritiesMaster.usstock_SecurityType2.latest.eq(\"Common Stock\")\n",
    "\n",
    "pipeline = Pipeline(\n",
    "    columns={\n",
    "        \"borrow_fee\": ibkr.BorrowFees.FeeRate.latest,\n",
    "    },\n",
    "    initial_universe=universe\n",
    ")"
   ]
  },
  {
   "cell_type": "markdown",
   "id": "59357694-ca10-44e7-aa20-c23b40066966",
   "metadata": {},
   "source": [
    "Next, we run the pipeline for a single date."
   ]
  },
  {
   "cell_type": "code",
   "execution_count": 2,
   "id": "4e6a281e-c387-4843-baef-196131dedbc4",
   "metadata": {
    "tags": []
   },
   "outputs": [],
   "source": [
    "from zipline.research import run_pipeline, use_bundle\n",
    "\n",
    "use_bundle(\"usstock-1d-bundle\")\n",
    "\n",
    "results = run_pipeline(pipeline, start_date=\"2024-01-05\", end_date=\"2024-01-05\")"
   ]
  },
  {
   "cell_type": "markdown",
   "id": "f95ffd00-a912-4839-8d9b-ef8c97e80ce9",
   "metadata": {},
   "source": [
    "Let's peek at the results. Borrow fees are quoted as the annualized interest rate that is charged to the borrower of the shares. For example, 0.25 corresponds to an annualized interest rate of 0.25%; 5.7 corresponds to an annualized interest rate of 5.7%."
   ]
  },
  {
   "cell_type": "code",
   "execution_count": 3,
   "id": "09ab8c07-74a3-4b8d-b648-8ee72c799704",
   "metadata": {},
   "outputs": [
    {
     "data": {
      "text/html": [
       "<div>\n",
       "<style scoped>\n",
       "    .dataframe tbody tr th:only-of-type {\n",
       "        vertical-align: middle;\n",
       "    }\n",
       "\n",
       "    .dataframe tbody tr th {\n",
       "        vertical-align: top;\n",
       "    }\n",
       "\n",
       "    .dataframe thead th {\n",
       "        text-align: right;\n",
       "    }\n",
       "</style>\n",
       "<table border=\"1\" class=\"dataframe\">\n",
       "  <thead>\n",
       "    <tr style=\"text-align: right;\">\n",
       "      <th></th>\n",
       "      <th></th>\n",
       "      <th>borrow_fee</th>\n",
       "    </tr>\n",
       "    <tr>\n",
       "      <th>date</th>\n",
       "      <th>asset</th>\n",
       "      <th></th>\n",
       "    </tr>\n",
       "  </thead>\n",
       "  <tbody>\n",
       "    <tr>\n",
       "      <th rowspan=\"5\" valign=\"top\">2024-01-05</th>\n",
       "      <th>Equity(FIBBG000C2V3D6 [A])</th>\n",
       "      <td>0.2918</td>\n",
       "    </tr>\n",
       "    <tr>\n",
       "      <th>Equity(FIBBG00B3T3HD3 [AA])</th>\n",
       "      <td>0.2843</td>\n",
       "    </tr>\n",
       "    <tr>\n",
       "      <th>Equity(FIBBG00VR487K7 [ORGN])</th>\n",
       "      <td>0.5998</td>\n",
       "    </tr>\n",
       "    <tr>\n",
       "      <th>Equity(FIBBG005P7Q881 [AAL])</th>\n",
       "      <td>0.2526</td>\n",
       "    </tr>\n",
       "    <tr>\n",
       "      <th>Equity(FIBBG003PNL136 [AAMC])</th>\n",
       "      <td>5.7020</td>\n",
       "    </tr>\n",
       "  </tbody>\n",
       "</table>\n",
       "</div>"
      ],
      "text/plain": [
       "                                          borrow_fee\n",
       "date       asset                                    \n",
       "2024-01-05 Equity(FIBBG000C2V3D6 [A])         0.2918\n",
       "           Equity(FIBBG00B3T3HD3 [AA])        0.2843\n",
       "           Equity(FIBBG00VR487K7 [ORGN])      0.5998\n",
       "           Equity(FIBBG005P7Q881 [AAL])       0.2526\n",
       "           Equity(FIBBG003PNL136 [AAMC])      5.7020"
      ]
     },
     "execution_count": 3,
     "metadata": {},
     "output_type": "execute_result"
    }
   ],
   "source": [
    "results.head()"
   ]
  },
  {
   "cell_type": "markdown",
   "id": "f4af2f86-0007-43f0-8e85-e8fc271ad8c3",
   "metadata": {},
   "source": [
    "Next we use pandas' `describe()` method to look at the distribution. Most borrow fees are low: the minimum borrow fee is 0.25%, and the median is below 1%. However, at the extreme end of the distribution, borrow fees can be very high: the maximum on this date is 860%. "
   ]
  },
  {
   "cell_type": "code",
   "execution_count": 4,
   "id": "d0376969-67aa-4818-8016-71922b08d739",
   "metadata": {
    "tags": []
   },
   "outputs": [
    {
     "data": {
      "text/html": [
       "<div>\n",
       "<style scoped>\n",
       "    .dataframe tbody tr th:only-of-type {\n",
       "        vertical-align: middle;\n",
       "    }\n",
       "\n",
       "    .dataframe tbody tr th {\n",
       "        vertical-align: top;\n",
       "    }\n",
       "\n",
       "    .dataframe thead th {\n",
       "        text-align: right;\n",
       "    }\n",
       "</style>\n",
       "<table border=\"1\" class=\"dataframe\">\n",
       "  <thead>\n",
       "    <tr style=\"text-align: right;\">\n",
       "      <th></th>\n",
       "      <th>borrow_fee</th>\n",
       "    </tr>\n",
       "  </thead>\n",
       "  <tbody>\n",
       "    <tr>\n",
       "      <th>count</th>\n",
       "      <td>4939.000000</td>\n",
       "    </tr>\n",
       "    <tr>\n",
       "      <th>mean</th>\n",
       "      <td>17.077866</td>\n",
       "    </tr>\n",
       "    <tr>\n",
       "      <th>std</th>\n",
       "      <td>54.938754</td>\n",
       "    </tr>\n",
       "    <tr>\n",
       "      <th>min</th>\n",
       "      <td>0.250000</td>\n",
       "    </tr>\n",
       "    <tr>\n",
       "      <th>25%</th>\n",
       "      <td>0.398650</td>\n",
       "    </tr>\n",
       "    <tr>\n",
       "      <th>50%</th>\n",
       "      <td>0.704100</td>\n",
       "    </tr>\n",
       "    <tr>\n",
       "      <th>75%</th>\n",
       "      <td>7.842400</td>\n",
       "    </tr>\n",
       "    <tr>\n",
       "      <th>max</th>\n",
       "      <td>860.538900</td>\n",
       "    </tr>\n",
       "  </tbody>\n",
       "</table>\n",
       "</div>"
      ],
      "text/plain": [
       "        borrow_fee\n",
       "count  4939.000000\n",
       "mean     17.077866\n",
       "std      54.938754\n",
       "min       0.250000\n",
       "25%       0.398650\n",
       "50%       0.704100\n",
       "75%       7.842400\n",
       "max     860.538900"
      ]
     },
     "execution_count": 4,
     "metadata": {},
     "output_type": "execute_result"
    }
   ],
   "source": [
    "results.describe()"
   ]
  },
  {
   "cell_type": "markdown",
   "id": "2e307ee9-c99e-436d-b40c-3bf60b843785",
   "metadata": {},
   "source": [
    "Let's view a histogram of the distribution. Because borrow fees have an extremely large range, we clip high borrow fees at 10 to make the histogram easier to view. The histogram reveals that most stocks cluster at the low end of the distribution (easy to borrow with low borrow fees), but a sizable number of stocks have borrow fees in excess of 10% annualized."
   ]
  },
  {
   "cell_type": "code",
   "execution_count": 5,
   "id": "ec5e9129-be6b-4f35-8431-22a2997ca2c4",
   "metadata": {},
   "outputs": [
    {
     "data": {
      "image/png": "[encoded data removed]",
      "text/plain": [
       "<Figure size 1152x432 with 1 Axes>"
      ]
     },
     "metadata": {},
     "output_type": "display_data"
    }
   ],
   "source": [
    "results.loc[results.borrow_fee > 10, \"borrow_fee\"] = 10\n",
    "results.plot.hist(bins=40);"
   ]
  },
  {
   "cell_type": "markdown",
   "id": "6d66e82f-f0de-47c1-966c-4979d99bcd07",
   "metadata": {},
   "source": [
    "***\n",
    "\n",
    "## *Next Up*\n",
    "\n",
    "Part 3: [Alphalens Analysis](Part3-Alphalens-Borrow-Fees.ipynb)"
   ]
  }
 ],
 "metadata": {
  "kernelspec": {
   "display_name": "Python 3.11",
   "language": "python",
   "name": "python3"
  },
  "language_info": {
   "codemirror_mode": {
    "name": "ipython",
    "version": 3
   },
   "file_extension": ".py",
   "mimetype": "text/x-python",
   "name": "python",
   "nbconvert_exporter": "python",
   "pygments_lexer": "ipython3",
   "version": "3.11.0"
  }
 },
 "nbformat": 4,
 "nbformat_minor": 5
}
