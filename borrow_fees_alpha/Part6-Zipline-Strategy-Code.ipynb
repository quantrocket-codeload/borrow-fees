{
 "cells": [
  {
   "cell_type": "markdown",
   "metadata": {},
   "source": [
    "<a href=\"https://www.quantrocket.com\"><img alt=\"QuantRocket logo\" src=\"https://www.quantrocket.com/assets/img/notebook-header-logo.png\"></a><br>\n",
    "<a href=\"https://www.quantrocket.com/disclaimer/\">Disclaimer</a>"
   ]
  },
  {
   "cell_type": "markdown",
   "metadata": {},
   "source": [
    "***\n",
    "[Borrow Fees Alpha](Introduction.ipynb) › Part 6: Zipline Code\n",
    "***"
   ]
  },
  {
   "cell_type": "markdown",
   "metadata": {},
   "source": [
    "# Zipline Strategy Code"
   ]
  },
  {
   "cell_type": "markdown",
   "metadata": {},
   "source": [
    "Since high borrow fee stocks tend to decline but the high borrow fees destroy the profitability of shorting them, perhaps a more appealing way to use borrow fee data is to exclude stocks with high borrow fees from long strategies. Next, we use Zipline to test this approach."
   ]
  },
  {
   "cell_type": "markdown",
   "metadata": {},
   "source": [
    "## Install strategy file\n",
    "\n",
    "The strategy is implemented in [avoid-high-borrow.py](avoid-high-borrow.py).\n",
    "\n",
    "Execute the following cell to move the strategy file to the `/codeload/zipline` directory:"
   ]
  },
  {
   "cell_type": "code",
   "execution_count": 1,
   "metadata": {},
   "outputs": [],
   "source": [
    "# make directory if doesn't exist\n",
    "!mkdir -p /codeload/zipline\n",
    "\n",
    "!mv avoid-high-borrow.py /codeload/zipline/"
   ]
  },
  {
   "cell_type": "markdown",
   "metadata": {},
   "source": [
    "## Strategy Highlights\n",
    "\n",
    "Using similar code as the Alphalens analysis earlier, the Zipline strategy creates a Pipeline of midcap stocks (defined as stocks in the 50th-75th percentile by dollar volume) that excludes stocks with borrow fees above 0.3%: \n",
    "\n",
    "```python\n",
    "\n",
    "MAX_BORROW_FEE = 0.3\n",
    "\n",
    "def make_pipeline():\n",
    "    \"\"\"\n",
    "    Create a pipeline that filters by dollar volume and borrow fee.\n",
    "    \"\"\"\n",
    "\n",
    "    # limit initial universe to common stocks\n",
    "    universe = master.SecuritiesMaster.usstock_SecurityType2.latest.eq(\"Common Stock\")\n",
    "\n",
    "    screen = AverageDollarVolume(window_length=90).percentile_between(50, 75)\n",
    "    \n",
    "    if MAX_BORROW_FEE:\n",
    "        screen &= (ibkr.BorrowFees.FeeRate.latest <= MAX_BORROW_FEE)\n",
    "    \n",
    "    pipeline = Pipeline(\n",
    "        initial_universe=universe,\n",
    "        screen=screen\n",
    "    )\n",
    "    ...\n",
    "```\n",
    "\n",
    "The results of the Pipeline screen are purchased in an equal-weighted, long-only portfolio and rebalanced monthly. "
   ]
  },
  {
   "cell_type": "markdown",
   "metadata": {},
   "source": [
    "***\n",
    "\n",
    "## *Next Up*\n",
    "\n",
    "Part 7: [Zipline Parameter Scan](Part7-Zipline-Parameter-Scan.ipynb)"
   ]
  }
 ],
 "metadata": {
  "kernelspec": {
   "display_name": "Python 3.11",
   "language": "python",
   "name": "python3"
  },
  "language_info": {
   "codemirror_mode": {
    "name": "ipython",
    "version": 3
   },
   "file_extension": ".py",
   "mimetype": "text/x-python",
   "name": "python",
   "nbconvert_exporter": "python",
   "pygments_lexer": "ipython3",
   "version": "3.11.0"
  }
 },
 "nbformat": 4,
 "nbformat_minor": 4
}
