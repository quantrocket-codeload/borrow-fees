{
 "cells": [
  {
   "cell_type": "markdown",
   "metadata": {},
   "source": [
    "<a href=\"https://www.quantrocket.com\"><img alt=\"QuantRocket logo\" src=\"https://www.quantrocket.com/assets/img/notebook-header-logo.png\"></a><br>\n",
    "<a href=\"https://www.quantrocket.com/disclaimer/\">Disclaimer</a>"
   ]
  },
  {
   "cell_type": "markdown",
   "metadata": {},
   "source": [
    "# Borrow Fees as Alpha Factor\n",
    "\n",
    "This tutorial provides an overview of QuantRocket's borrow fees dataset. Borrow fees can be used to model the costs of short selling or as a source of alternative alpha.\n",
    "\n",
    "The borrow fees dataset is included with a paid software license. Data are sourced from Interactive Brokers, but an Interactive Brokers account is not required to access the data.\n",
    "    \n",
    "**Data collection**\n",
    "\n",
    "* Part 1: [Data Collection](Part1-Data-Collection.ipynb)\n",
    "\n",
    "**Research: Borrow Fees as Alpha Factor**\n",
    "\n",
    "*Explore whether borrow fees predict forward returns*\n",
    "\n",
    "* Part 2: [Exploratory Data Analysis](Part2-EDA.ipynb)\n",
    "* Part 3: [Alphalens Analysis](Part3-Alphalens-Borrow-Fees.ipynb)\n",
    "\n",
    "**Short Strategy (Moonshot)**\n",
    "\n",
    "*Backtest a Moonshot strategy that short stocks with high borrow fees*\n",
    "\n",
    "* Part 4: [Moonshot Strategy Code](Part4-Moonshot-Strategy-Code.ipynb)\n",
    "* Part 5: [Moonshot Backtest](Part5-Moonshot-Backtest.ipynb)\n",
    "\n",
    "**Long Strategy (Zipline)**\n",
    "\n",
    "*Backtest a Zipline strategy that excludes stocks with high borrow fees from a long-only portfolio*\n",
    "\n",
    "* Part 6: [Zipline Strategy Code](Part6-Zipline-Strategy-Code.ipynb)\n",
    "* Part 7: [Zipline Parameter Scan](Part7-Zipline-Parameter-Scan.ipynb)"
   ]
  }
 ],
 "metadata": {
  "kernelspec": {
   "display_name": "Python 3.11",
   "language": "python",
   "name": "python3"
  },
  "language_info": {
   "codemirror_mode": {
    "name": "ipython",
    "version": 3
   },
   "file_extension": ".py",
   "mimetype": "text/x-python",
   "name": "python",
   "nbconvert_exporter": "python",
   "pygments_lexer": "ipython3",
   "version": "3.11.0"
  }
 },
 "nbformat": 4,
 "nbformat_minor": 4
}
