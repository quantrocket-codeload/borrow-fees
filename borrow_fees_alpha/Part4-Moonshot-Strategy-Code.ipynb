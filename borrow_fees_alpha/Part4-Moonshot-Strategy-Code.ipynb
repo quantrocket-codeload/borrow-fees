{
 "cells": [
  {
   "cell_type": "markdown",
   "metadata": {},
   "source": [
    "<a href=\"https://www.quantrocket.com\"><img alt=\"QuantRocket logo\" src=\"https://www.quantrocket.com/assets/img/notebook-header-logo.png\"></a><br>\n",
    "<a href=\"https://www.quantrocket.com/disclaimer/\">Disclaimer</a>"
   ]
  },
  {
   "cell_type": "markdown",
   "metadata": {},
   "source": [
    "***\n",
    "[Borrow Fees Alpha](Introduction.ipynb) › Part 4: Moonshot Code\n",
    "***"
   ]
  },
  {
   "cell_type": "markdown",
   "metadata": {},
   "source": [
    "# Moonshot Strategy Code"
   ]
  },
  {
   "cell_type": "markdown",
   "metadata": {},
   "source": [
    "The previous notebook revealed that stocks with high borrow fees tend to decline. On the one hand, this tendency makes such stocks attractive to short. On the other hand, their high borrow fees make them unattractive to short. In the next two notebooks, we pit these competing forces against each other by using Moonshot to backtest a strategy that shorts the top decile of stocks by borrow fee, while also incurring the borrowing costs of those short positions.  "
   ]
  },
  {
   "cell_type": "markdown",
   "metadata": {},
   "source": [
    "## Install strategy file\n",
    "\n",
    "The strategy is implemented in [short-high-borrow.py](short-high-borrow.py).\n",
    "\n",
    "Execute the following cell to move the strategy file to the `/codeload/moonshot` directory:"
   ]
  },
  {
   "cell_type": "code",
   "execution_count": 1,
   "metadata": {},
   "outputs": [],
   "source": [
    "# make directory if doesn't exist\n",
    "!mkdir -p /codeload/moonshot\n",
    "\n",
    "!mv short-high-borrow.py /codeload/moonshot/"
   ]
  },
  {
   "cell_type": "markdown",
   "metadata": {},
   "source": [
    "## Strategy Highlights\n",
    "\n",
    "The `prices_to_signals` method of the Moonshot strategy replicates much of the logic from our Pipeline. \n",
    "\n",
    "* Near the end of the `prices_to_signals` method, we use `get_ibkr_borrow_fees_reindexed_like(...)` to pull borrow fees into the strategy. We then use `rank(axis=1...)` to rank stocks daily by borrow fee, then select the top decile.\n",
    "* Before that, we limit the universe to common stocks in the top 75% by dollar volume. This is done by creating two boolean DataFrames (`are_common_stocks` and `have_adequate_dollar_volumes`). These DataFrames are passed to Pandas' `where()` method before ranking (`are_common_stocks` is applied before ranking by dollar volume, and `have_adequate_dollar_volumes` is applied before ranking by borrow fees). This approach of using `where()`, which is typical in Moonshot, sets the dollar volumes or borrow fees, respectively, to `NaN` for stocks that don't belong in the universe and thereby excludes such stocks from the ranking, as `rank(...)` ignores `NaN`s. \n",
    "\n",
    "```python\n",
    "\n",
    "from quantrocket.fundamental import get_ibkr_borrow_fees_reindexed_like\n",
    "from quantrocket.master import get_securities_reindexed_like\n",
    "...\n",
    "\n",
    "class ShortHighBorrow(Moonshot):\n",
    "\n",
    "    ...\n",
    "\n",
    "    def prices_to_signals(self, prices: pd.DataFrame):\n",
    "        closes = prices.loc[\"Close\"]\n",
    "        volumes = prices.loc[\"Volume\"]\n",
    "\n",
    "        # limit to common stocks...\n",
    "        sec_types = get_securities_reindexed_like(closes, \"usstock_SecurityType2\").loc[\"usstock_SecurityType2\"]\n",
    "        are_common_stocks = sec_types == \"Common Stock\"\n",
    "\n",
    "        # ...in the top 75% by dollar volume\n",
    "        avg_dollar_volumes = (closes * volumes).rolling(30).mean()\n",
    "        dollar_volume_pct_ranks = avg_dollar_volumes.where(are_common_stocks).rank(axis=1, ascending=False, pct=True)\n",
    "        have_adequate_dollar_volumes = dollar_volume_pct_ranks <= 0.75\n",
    "\n",
    "        # rank by borrow fee and short the 10% with the highest fees\n",
    "        borrow_fees = get_ibkr_borrow_fees_reindexed_like(closes)\n",
    "        borrow_fee_ranks = borrow_fees.where(have_adequate_dollar_volumes).rank(axis=1, ascending=False, pct=True)\n",
    "        short_signals = borrow_fee_ranks <= 0.10\n",
    "        \n",
    "        return -short_signals.astype(int)\n",
    "```\n",
    "\n",
    "Modeling borrowing costs for short positions is simple in Moonshot. Import the `IBKRBorrowFees` slippage class and assign it to the `SLIPPAGE_CLASSES` attribute of the Moonshot strategy:\n",
    "\n",
    "```python\n",
    "from moonshot.slippage.borrowfee import IBKRBorrowFees\n",
    "\n",
    "class ShortHighBorrow(Moonshot):\n",
    "\n",
    "    ...\n",
    "    SLIPPAGE_CLASSES = IBKRBorrowFees\n",
    "```\n"
   ]
  },
  {
   "cell_type": "markdown",
   "metadata": {},
   "source": [
    "***\n",
    "\n",
    "## *Next Up*\n",
    "\n",
    "Part 5: [Moonshot Backtest](Part5-Moonshot-Backtest.ipynb)"
   ]
  }
 ],
 "metadata": {
  "kernelspec": {
   "display_name": "Python 3.11",
   "language": "python",
   "name": "python3"
  },
  "language_info": {
   "codemirror_mode": {
    "name": "ipython",
    "version": 3
   },
   "file_extension": ".py",
   "mimetype": "text/x-python",
   "name": "python",
   "nbconvert_exporter": "python",
   "pygments_lexer": "ipython3",
   "version": "3.11.0"
  }
 },
 "nbformat": 4,
 "nbformat_minor": 4
}
